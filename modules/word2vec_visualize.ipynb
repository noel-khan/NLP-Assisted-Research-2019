{
 "cells": [
  {
   "cell_type": "code",
   "execution_count": null,
   "metadata": {},
   "outputs": [],
   "source": [
    "print(\"BEGIN visualize smart-filer_word2vec\")"
   ]
  },
  {
   "cell_type": "code",
   "execution_count": null,
   "metadata": {},
   "outputs": [],
   "source": [
    "import time                               # perf mon \n",
    "import sklearn.manifold                   # dim-reduction for viz\n",
    "import matplotlib.pyplot as plt           # plot\n",
    "import seaborn                            # viz\n",
    "import pandas as pd\n",
    "import numpy as np\n",
    "import pickle                             # load,save files\n",
    "import random                             # randomize offsets"
   ]
  },
  {
   "cell_type": "code",
   "execution_count": null,
   "metadata": {},
   "outputs": [],
   "source": [
    "# intermediate variables\n",
    "_points = []\n",
    "\n",
    "def w2v_viz_filename():\n",
    "    W2V_USERARG_PATH='reports/w2v__arg' \n",
    "    W2V_USERARG_PATH+='-dblim=' + str(USERARG_RECORD_LIMITER) \n",
    "    W2V_USERARG_PATH+='-pos=' + str(USERARG_FILTER_POS) \n",
    "    W2V_USERARG_PATH+='-wlim=' + str(USERARG_FILTER_WORDS)\n",
    "    W2V_USERARG_PATH+='-qfea=' + str(USERARG_QTY_FEATURES) \n",
    "    W2V_USERARG_PATH+='-wmin=' + str(USERARG_QTY_MINWORDS) \n",
    "    W2V_USERARG_PATH+='-wndw=' + str(USERARG_SIZE_CONTEXT) \n",
    "    W2V_USERARG_PATH+='-samp=' + str(USERARG_DOWNSAMPLING) \n",
    "    W2V_USERARG_PATH+='-statespace=' + USERARG_DATABASEFILE\n",
    "    return W2V_USERARG_PATH\n",
    "\n",
    "#model_w2v = pickle.load( open('../models/w2v.model', \"rb\" ) )\n",
    "#model_w2v"
   ]
  },
  {
   "cell_type": "code",
   "execution_count": null,
   "metadata": {},
   "outputs": [],
   "source": [
    "print(\"\\tInitializing tSNE model (t-Distributed Stochastic Neighbor Embedding)...\")\n",
    "iTime = time.time()\n",
    "\n",
    "tsne = sklearn.manifold.TSNE(n_components=2, random_state=0)\n",
    "\n",
    "all_word_vectors_matrix = model_w2v.wv.vectors #for some reason, this 2-step is faster than nesting\n",
    "all_word_vectors_matrix_2d = tsne.fit_transform(all_word_vectors_matrix)\n",
    "\n",
    "print(\"\\tCompleted in\", round(time.time() - iTime,3),\"seconds\")"
   ]
  },
  {
   "cell_type": "code",
   "execution_count": null,
   "metadata": {},
   "outputs": [],
   "source": [
    "print(\"\\tMapping words to 2D-vector space...\")\n",
    "iTime = time.time()\n",
    "\n",
    "_points = pd.DataFrame(\n",
    "    [\n",
    "        (word, coords[0], coords[1])\n",
    "        for word, coords in [\n",
    "            (word, all_word_vectors_matrix_2d[model_w2v.wv.vocab[word].index])\n",
    "            for word in model_w2v.wv.vocab\n",
    "        ]\n",
    "    ],\n",
    "    columns=[\"word\", \"x\", \"y\"]\n",
    ")\n",
    "\n",
    "print(\"\\tSaving point-data to data/w2v_tSNE_points.csv...\")\n",
    "_points.to_csv(\"data/w2v_tSNE_points.csv\")\n",
    "\n",
    "_points.head(10)\n",
    "\n",
    "print(\"\\tCompleted in\", round(time.time() - iTime,3),\"seconds\")"
   ]
  },
  {
   "cell_type": "code",
   "execution_count": null,
   "metadata": {},
   "outputs": [],
   "source": [
    "print(\"\\tCompiling keyword windows...\")\n",
    "iTime = time.time()\n",
    "\n",
    "_dx = int(USERARG_WINDOWSIZEPCT*(max(_points.x)-min(_points.x))/100)\n",
    "_dy = int(USERARG_WINDOWSIZEPCT*(max(_points.y)-min(_points.y))/100)\n",
    "\n",
    "_points_kw = pd.DataFrame([\n",
    "    (word, round(coords[0],2), round(coords[1],2), int(coords[0]-_dx), int(coords[0]+_dx), int(coords[1]-_dy), int(coords[1]+_dy)) \n",
    "    for word, coords in [\n",
    "        (word, np.around(all_word_vectors_matrix_2d[model_w2v.wv.vocab[word].index],2))\n",
    "        for word in model_w2v.wv.vocab if word in KEYWORDS\n",
    "    ]\n",
    "], columns=[\"word\", \"x\", \"y\", \"xLB\", \"xUB\", \"yLB\", \"yUB\"])\n",
    "\n",
    "_dx = None\n",
    "_dy = None\n",
    "\n",
    "print(_points_kw)\n",
    "\n",
    "print(\"\\tCompleted in\", round(time.time() - iTime,3),\"seconds\")"
   ]
  },
  {
   "cell_type": "code",
   "execution_count": null,
   "metadata": {},
   "outputs": [],
   "source": [
    "\n",
    "def plot_region(x_bounds, y_bounds, label_all):\n",
    "    # plot neighborhood\n",
    "    slice = _points[\n",
    "        (x_bounds[0] <= _points.x) &\n",
    "        (_points.x <= x_bounds[1]) & \n",
    "        (y_bounds[0] <= _points.y) &\n",
    "        (_points.y <= y_bounds[1])\n",
    "    ]\n",
    "    ax = slice.plot.scatter(\"x\", \"y\", marker=\".\", s=10, c=\"skyblue\")\n",
    "    fig = plt.gcf()\n",
    "    fig.set_size_inches(18, 10)\n",
    "    \n",
    "    # label neighborhood\n",
    "    _tmp_words = []\n",
    "    if label_all == 1:\n",
    "        for i, point in slice.iterrows():\n",
    "            ax.text(point.x + 0.005, point.y + 0.005, point.word, fontsize=11)\n",
    "            _tmp_words.append(point.word)\n",
    "\n",
    "    # plot keywords\n",
    "    slice = _points_kw[\n",
    "        (x_bounds[0] <= _points_kw.x) &\n",
    "        (_points_kw.x <= x_bounds[1]) & \n",
    "        (y_bounds[0] <= _points_kw.y) &\n",
    "        (_points_kw.y <= y_bounds[1])\n",
    "    ]\n",
    "    slice.plot.scatter(\"x\", \"y\", marker=\"*\", s=20, c=\"red\", ax=ax)\n",
    "    fig = plt.gcf()\n",
    "    fig.set_size_inches(18, 10)\n",
    "\n",
    "    # label keywords\n",
    "    for i, point in slice.iterrows():\n",
    "        if point.word not in _tmp_words:        \n",
    "            #ax.text(point.x + random.random(), point.y + random.random(), point.word, fontsize=11)\n",
    "            ax.text(point.x, point.y, point.word, fontsize=11)\n"
   ]
  },
  {
   "cell_type": "code",
   "execution_count": null,
   "metadata": {},
   "outputs": [],
   "source": [
    "print(\"\\tPlotting 2D-vector state space...\")\n",
    "iTime = time.time()\n",
    "\n",
    "W2V_USERARG_PATH=w2v_viz_filename() + \".SVG\"\n",
    "\n",
    "plot_region( x_bounds=(min(_points.x),max(_points.x)), y_bounds=(min(_points.y),max(_points.y)), label_all=0)\n",
    "plt.title('Word2Vec 2D State Space') \n",
    "plt.savefig(W2V_USERARG_PATH)\n",
    "print(\"\\tINFO: Saved to \",W2V_USERARG_PATH)\n",
    "\n",
    "print(\"\\tCompleted in\", round(time.time() - iTime,3),\"seconds\")"
   ]
  },
  {
   "cell_type": "code",
   "execution_count": null,
   "metadata": {},
   "outputs": [],
   "source": [
    "print(\"\\tPlotting keyword-specific regions in state space...\")\n",
    "iTime = time.time()\n",
    "\n",
    "W2V_USERARG_PATH=w2v_viz_filename() + \".SVG\"\n",
    "\n",
    "try:\n",
    "    for i,pt in _points_kw.iterrows():\n",
    "        plot_region( x_bounds=(pt.xLB, pt.xUB), y_bounds=(pt.yLB, pt.yUB), label_all=1)\n",
    "        plt.savefig(W2V_USERARG_PATH + \"_\" + pt.word + \".SVG\")\n",
    "        plt.title(\"w2v_\" + pt.word)\n",
    "        print(\"\\tINFO: Saved to\",W2V_USERARG_PATH + \"_\" + pt.word + \".SVG\")\n",
    "except:\n",
    "    print(\"\\tWARNING: Failed to zoom into keyword\")\n",
    "\n",
    "print(\"\\tCompleted in\", round(time.time() - iTime,3),\"seconds\")"
   ]
  },
  {
   "cell_type": "code",
   "execution_count": null,
   "metadata": {},
   "outputs": [],
   "source": [
    "print(\"END visualize smart-filer_word2vec\")"
   ]
  }
 ],
 "metadata": {
  "kernelspec": {
   "display_name": "Python 3",
   "language": "python",
   "name": "python3"
  },
  "language_info": {
   "codemirror_mode": {
    "name": "ipython",
    "version": 3
   },
   "file_extension": ".py",
   "mimetype": "text/x-python",
   "name": "python",
   "nbconvert_exporter": "python",
   "pygments_lexer": "ipython3",
   "version": "3.8.4"
  }
 },
 "nbformat": 4,
 "nbformat_minor": 4
}
