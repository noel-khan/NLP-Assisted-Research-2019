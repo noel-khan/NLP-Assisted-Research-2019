{
 "cells": [
  {
   "cell_type": "code",
   "execution_count": 1,
   "metadata": {},
   "outputs": [],
   "source": [
    "print(\"BEGIN LSI-train\")\n",
    "if __name__ != \"__main__\":\n",
    "    exit()"
   ]
  },
  {
   "cell_type": "code",
   "execution_count": 1,
   "metadata": {},
   "outputs": [],
   "source": [
    "# REF: https://www.machinelearningplus.com/nlp/topic-modeling-gensim-python"
   ]
  },
  {
   "cell_type": "code",
   "execution_count": 1,
   "metadata": {},
   "outputs": [],
   "source": [
    "import time                       # performance/completion feedback"
   ]
  },
  {
   "cell_type": "code",
   "execution_count": 1,
   "metadata": {},
   "outputs": [],
   "source": [
    "#%run ./common_preprocessor.ipynb\n",
    "\n",
    "# folder and filename specified by client\n",
    "def lsi_train_filename():\n",
    "    _LSI_FILE  = 'lsi__arg'\n",
    "    _LSI_FILE +='-dblim=' + str(USERARG_RECORD_LIMITER) \n",
    "    _LSI_FILE += '-num=' + str(USERARG_NUMTOPICS)\n",
    "    _LSI_FILE += '-min=' + str(USERARG_NGRAM_MINCOUNT)\n",
    "    _LSI_FILE += '-thr=' + str(USERARG_NGRAM_THRESHOLD)\n",
    "    return _LSI_FILE\n",
    "\n",
    "\n",
    "# COPIED FROM SANITIZE\n",
    "def get_list_of_wordlists():\n",
    "    print(\"\\tCompiling list of word-lists from database[FIELD_BzNDX_ABSTRACT_WORDS]...\")\n",
    "    iTime = time.time()\n",
    "    return [ record[FIELD_BzNDX_ABSTRACT_WORDS] for record in database[0:] ]\n"
   ]
  },
  {
   "cell_type": "code",
   "execution_count": 1,
   "metadata": {},
   "outputs": [],
   "source": [
    "print(\"\\tImporting packages...\")\n",
    "iTime = time.time()\n",
    "\n",
    "import time\n",
    "import gensim\n",
    "#import gensim.corpora as corpora\n",
    "from gensim.models import CoherenceModel, LsiModel #, HdpModel, LdaModel\n",
    "import warnings\n",
    "warnings.filterwarnings(\"ignore\",category=DeprecationWarning)\n",
    "\n",
    "print(\"\\tCompleted in\", round(time.time() - iTime,3),\"seconds\")"
   ]
  },
  {
   "cell_type": "code",
   "execution_count": 1,
   "metadata": {},
   "outputs": [],
   "source": [
    "print(\"\\tCreating Latent Semantic Indeixing model (LSI)...\")\n",
    "iTime = time.time()\n",
    "\n",
    "# \"LSI stands for Latent Semantic Indeixing - it is a \n",
    "# popular information retreival method which works by\n",
    "# decomposing the original matrix of words to maintain\n",
    "# key topics.\" Gensim's implementation uses an SVD.\n",
    "\n",
    "#corpus_i2w = created by featurize.ipthnb\n",
    "#ngrams   = [record[FIELD_BzNDX_ABSTRACT_WORDS] for record in database[0:]]\n",
    "ngrams = get_list_of_wordlists()\n",
    "\n",
    "model_lsi = LsiModel(corpus=corpus_i2w, num_topics=USERARG_NUMTOPICS, id2word=id2words)\n",
    "\n",
    "# Compute Coherence\n",
    "lsi_topics = model_lsi.show_topics(formatted=False)\n",
    "lsi_topic_keywords = [[word for word, prob in topic] for topicid, topic in lsi_topics]\n",
    "lsi_coherence = CoherenceModel(topics=lsi_topic_keywords, texts=ngrams, dictionary=id2words, window_size=10).get_coherence()\n",
    "print(\"\\tCoherence score: \", lsi_coherence)\n",
    "\n",
    "ngrams=None\n",
    "\n",
    "# display topics\n",
    "for i in range(0,USERARG_NUMTOPICS):\n",
    "    print(\"\\tTopic\",i,\":\",model_lsi.print_topic(i), \"\\n\")\n",
    "\n",
    "print(\"\\tCompleted in\", round(time.time() - iTime,3),\"seconds\")"
   ]
  },
  {
   "cell_type": "code",
   "execution_count": 1,
   "metadata": {},
   "outputs": [],
   "source": [
    "print(\"\\tLSI topic analysis...\")\n",
    "iTime = time.time()\n",
    "\n",
    "#flatten topic_keywords\n",
    "unique_topic_keywords = []\n",
    "for topic in lsi_topic_keywords:\n",
    "    for keyword in topic:\n",
    "        if keyword not in unique_topic_keywords:\n",
    "            unique_topic_keywords.append(keyword)\n",
    "#print(unique_topic_keywords)\n",
    "    \n",
    "# visualize topics\n",
    "print(\"\\tTopicKeyword,RawTopicID\", str(list(range(USERARG_NUMTOPICS))))\n",
    "topic_matrix = \"\"\n",
    "found = \"\"\n",
    "for word in unique_topic_keywords:\n",
    "    topic_matrix = \"\\t\\t\" + topic_matrix + word \n",
    "    for topic in lsi_topics:\n",
    "        found = \"\"\n",
    "        for topic_tuple in topic[1]: \n",
    "            if topic_tuple[0] == word:\n",
    "                found = topic_tuple\n",
    "                break\n",
    "        \n",
    "        if found:\n",
    "            topic_matrix = topic_matrix + \",\" + str(found[1])\n",
    "        else:\n",
    "            topic_matrix = topic_matrix + \",\"\n",
    "\n",
    "    topic_matrix = topic_matrix + \"\\n\"\n",
    "\n",
    "print(\"\\tLSI Results (keyword vs topic#)\",topic_matrix)\n",
    "\n",
    "print(\"\\tCompleted in\", round(time.time() - iTime,3),\"seconds\")"
   ]
  },
  {
   "cell_type": "code",
   "execution_count": 1,
   "metadata": {},
   "outputs": [],
   "source": [
    "print(\"\\tSaving results...\")\n",
    "iTime = time.time()\n",
    "\n",
    "# save reports\n",
    "_TMP_FILE = 'reports/' + lsi_train_filename() + '_topics.csv'\n",
    "with open(_TMP_FILE, 'w') as filehandle:\n",
    "    filehandle.writelines(\"TopicKeyword,\" + str(list(range(USERARG_NUMTOPICS))) + \"\\n\")\n",
    "    filehandle.writelines(topic_matrix)\n",
    "    print('\\tINFO: LSI topic visualization saved to ' + _TMP_FILE)\n",
    "\n",
    "_TMP_FILE = 'reports/' + lsi_train_filename() + '_topics.lst'\n",
    "with open(_TMP_FILE, 'w') as filehandle:\n",
    "    filehandle.writelines(\"%s\\n\" % [topic] for topic in lsi_topics)\n",
    "    print('\\tINFO: LSI topic listing saved to ' + _TMP_FILE)\n",
    "\n",
    "# save model\n",
    "model_lsi.save('models/' + lsi_train_filename() + '.model')\n",
    "    \n",
    "print(\"\\tCompleted in\", round(time.time() - iTime,3),\"seconds\")"
   ]
  },
  {
   "cell_type": "code",
   "execution_count": 1,
   "metadata": {},
   "outputs": [],
   "source": [
    "print(\"END LSI-train\")"
   ]
  }
 ],
 "metadata": {
  "kernelspec": {
   "display_name": "Python 3",
   "language": "python",
   "name": "python3"
  },
  "language_info": {
   "codemirror_mode": {
    "name": "ipython",
    "version": 3
   },
   "file_extension": ".py",
   "mimetype": "text/x-python",
   "name": "python",
   "nbconvert_exporter": "python",
   "pygments_lexer": "ipython3",
   "version": "3.8.4"
  }
 },
 "nbformat": 4,
 "nbformat_minor": 4
}
