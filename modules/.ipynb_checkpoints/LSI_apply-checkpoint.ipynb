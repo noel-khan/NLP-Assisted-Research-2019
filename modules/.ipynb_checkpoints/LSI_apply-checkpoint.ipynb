{
 "cells": [
  {
   "cell_type": "code",
   "execution_count": null,
   "metadata": {},
   "outputs": [],
   "source": [
    "print(\"BEGIN LSI_apply\")"
   ]
  },
  {
   "cell_type": "code",
   "execution_count": null,
   "metadata": {},
   "outputs": [],
   "source": [
    "assert(model_lsi)"
   ]
  },
  {
   "cell_type": "code",
   "execution_count": null,
   "metadata": {},
   "outputs": [],
   "source": [
    "import time"
   ]
  },
  {
   "cell_type": "code",
   "execution_count": null,
   "metadata": {},
   "outputs": [],
   "source": [
    "def lsi_apply_filename():\n",
    "    _LSI_FILE  = 'lsi__arg'\n",
    "    _LSI_FILE +='-dblim=' + str(USERARG_RECORD_LIMITER) \n",
    "    _LSI_FILE += '-num=' + str(USERARG_NUMTOPICS)\n",
    "    _LSI_FILE += '-min=' + str(USERARG_NGRAM_MINCOUNT)\n",
    "    _LSI_FILE += '-thr=' + str(USERARG_NGRAM_THRESHOLD)\n",
    "    _LSI_FILE += '-db='  + USERARG_DATABASEFILE\n",
    "    return _LSI_FILE"
   ]
  },
  {
   "cell_type": "code",
   "execution_count": null,
   "metadata": {},
   "outputs": [],
   "source": [
    "print(\"\\tApplying LSI topic classifier...\")\n",
    "iTime = time.time()\n",
    "\n",
    "_TMP_FILE = 'reports/' + lsi_apply_filename() + '_results.csv'\n",
    "_TMP_RECORD = []\n",
    "_HEADER = \"DocID,IntClass,BinClass,MatchingTopicID,MatchingTopicScore,RawTopicScores\"\n",
    "\n",
    "# print header\n",
    "print(\"\\t\" + _HEADER)\n",
    "\n",
    "with open(_TMP_FILE, 'w') as filehandle:\n",
    "    filehandle.writelines(\"\\t\" + _HEADER + \"\\n\")\n",
    "    for i in range(len(corpus_i2w)):\n",
    "        topic_scores = model_lsi[ corpus_i2w[i] ] # list of tuples{topicID,score}\n",
    "        best = ['', -10000] # = [topicID, topicScore]\n",
    "        for item in topic_scores:\n",
    "            if item[1] > best[1]:\n",
    "                best = item\n",
    "\n",
    "        record = database[i]\n",
    "        _TMP_RECORD = \"\\t\" + str(record[FIELD_BzNDX_DOCID]) + \",\" + str(record[FIELD_BzNDX_INT_CLASS]) + \",\" + str(record[FIELD_BzNDX_BIN_CLASS]) + \",\" + str(best[0]) + \",\" + str(best[1]) + \",\" + str(topic_scores)\n",
    "        print(_TMP_RECORD)\n",
    "        filehandle.writelines(_TMP_RECORD + \"\\n\")\n",
    "        \n",
    "print('\\tINFO: LSI results saved to ' + _TMP_FILE)\n",
    "print(\"\\tCompleted in\", round(time.time() - iTime,3),\"seconds\")\n",
    "\n",
    "_HEADER = None\n",
    "_TMP_RECORD = None"
   ]
  },
  {
   "cell_type": "code",
   "execution_count": null,
   "metadata": {},
   "outputs": [],
   "source": [
    "print(\"END LSI_apply\")"
   ]
  }
 ],
 "metadata": {
  "kernelspec": {
   "display_name": "Python 3",
   "language": "python",
   "name": "python3"
  },
  "language_info": {
   "codemirror_mode": {
    "name": "ipython",
    "version": 3
   },
   "file_extension": ".py",
   "mimetype": "text/x-python",
   "name": "python",
   "nbconvert_exporter": "python",
   "pygments_lexer": "ipython3",
   "version": "3.8.4"
  }
 },
 "nbformat": 4,
 "nbformat_minor": 4
}
