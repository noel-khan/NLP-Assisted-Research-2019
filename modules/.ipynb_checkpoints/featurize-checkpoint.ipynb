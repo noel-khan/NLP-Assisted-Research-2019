{
 "cells": [
  {
   "cell_type": "code",
   "execution_count": null,
   "metadata": {},
   "outputs": [],
   "source": [
    "print(\"BEGIN featurize\")"
   ]
  },
  {
   "cell_type": "code",
   "execution_count": null,
   "metadata": {},
   "outputs": [],
   "source": [
    "import csv                        # load,save files\n",
    "import time                       # performance/completion feedback\n",
    "\n",
    "import gensim.corpora as corpora \n",
    "from gensim.corpora.mmcorpus import MmCorpus # to save corpus variants"
   ]
  },
  {
   "cell_type": "code",
   "execution_count": null,
   "metadata": {},
   "outputs": [],
   "source": [
    "id2words   = [] # id2word mapping of distinct words \n",
    "\n",
    "corpus_bow = [] # (list of lists) abstracts in id2word format\n",
    "corpus_i2w = [] # (list of lists) abstracts in BoW format"
   ]
  },
  {
   "cell_type": "code",
   "execution_count": null,
   "metadata": {},
   "outputs": [],
   "source": [
    "# TODO THESE METHODS ARE USED IN OTHER IPYs. BUNDLE THEM IN A CLASS AND REUSE\n",
    "\n",
    "def flat_list_of_wordlists():\n",
    "    return [word for wordlist in get_list_of_wordlists() for word in wordlist]\n",
    "\n",
    "def get_list_of_wordlists():\n",
    "    print(\"\\tCompiling list of word-lists from database[FIELD_BzNDX_ABSTRACT_WORDS]...\")\n",
    "    iTime = time.time()\n",
    "    return [ record[FIELD_BzNDX_ABSTRACT_WORDS] for record in database[0:] ]\n"
   ]
  },
  {
   "cell_type": "code",
   "execution_count": null,
   "metadata": {},
   "outputs": [],
   "source": [
    "print(\"\\tExtracting id2word features...\")\n",
    "iTime = time.time()\n",
    "\n",
    "ngrams = get_list_of_wordlists()\n",
    "\n",
    "# index words\n",
    "id2words = corpora.Dictionary(ngrams)\n",
    "if USERARG_VERBOSE==1:\n",
    "    print(\"\\tExample of id2words:\", id2words)\n",
    "\n",
    "# compile list of abstract-words in terms of id2words list\n",
    "corpus_i2w = [id2words.doc2bow(wordlist) for wordlist in ngrams]\n",
    "ngrams = None\n",
    "\n",
    "if USERARG_VERBOSE==1:\n",
    "    print(\"\\tINFO: Example of corpus_i2w: \", corpus_i2w[0])\n",
    "\n",
    "print(\"\\tCompleted in\", round(time.time() - iTime,3),\"seconds\")"
   ]
  },
  {
   "cell_type": "code",
   "execution_count": null,
   "metadata": {},
   "outputs": [],
   "source": [
    "print(\"\\tExtracting BoW features...\")\n",
    "iTime = time.time()\n",
    "\n",
    "_words = []\n",
    "\n",
    "# get dictionary. During a training workflow\n",
    "# sanitize creates words, but when superimposing\n",
    "# a dictionary I immediately \n",
    "if len(USERARG_IMPOSE_DICTIONARY)==0:\n",
    "    _words = flat_list_of_wordlists()\n",
    "    _words = Counter(_words)\n",
    "    _words = _words.most_common(USERARG_FILTER_WORDS)\n",
    "    _words = [w[0] for w in _words] # strip counts from words\n",
    "else:\n",
    "    _words = words.most_common(USERARG_FILTER_WORDS)\n",
    "    _words = [w[0] for w in _words] # strip counts from words\n",
    "\n",
    "print(\"\\tGenerating feature vector of  dictionary-word counts per document...\")\n",
    "for i in range(len(database)):\n",
    "    feature_vector = []\n",
    "    for w in list(_words):\n",
    "        feature_vector.append(database[i][FIELD_BzNDX_ABSTRACT_WORDS].count(w))\n",
    "    corpus_bow.append(feature_vector)\n",
    "\n",
    "_words = None\n",
    "feature_vector = None\n",
    "print(\"\\tCompleted in\", round(time.time() - iTime,3),\"seconds\")\n",
    "\n",
    "# FWD: None"
   ]
  },
  {
   "cell_type": "code",
   "execution_count": null,
   "metadata": {},
   "outputs": [],
   "source": [
    "print(\"\\tSaving words and id2words dictionaries...\")\n",
    "iTime = time.time()\n",
    "\n",
    "# word/count dictionary\n",
    "print(\"\\tINFO\\TYPE: words\",type(words),\" example:\",list(words.items())[:1]) # <key,count>\n",
    "print(\"\\tINFO\\API: words: e = list(words.elements()) or {k,v} = list(words.{keys,values}())\")\n",
    "\n",
    "_TMP_FILE  = 'data/' + USERARG_DATABASEFILE\n",
    "_TMP_FILE += '-recs=' + str(USERARG_RECORD_LIMITER)\n",
    "_TMP_FILE += '-wrds=' + str(USERARG_FILTER_WORDS)\n",
    "_TMP_FILE += '-posf=' + str(USERARG_FILTER_POS)\n",
    "_TMP_FILE += '-ngmn=' + str(USERARG_NGRAM_MINCOUNT)\n",
    "_TMP_FILE += '-ngtr=' + str(USERARG_NGRAM_THRESHOLD)\n",
    "\n",
    "#id2words.save(_TMP_FILE + '.id2words') #binary\n",
    "id2words.save_as_text(_TMP_FILE + '.id2words')\n",
    "print('\\tINFO: id2words dictionary saved as ' + _TMP_FILE)\n",
    "\n",
    "\n",
    "MmCorpus.serialize(_TMP_FILE + '.corpus.i2w', corpus_i2w)\n",
    "print('\\tINFO: corpus_i2w saved as ' + _TMP_FILE)\n",
    "\n",
    "#MmCorpus.serialize(_TMP_FILE + '.corpus.bow', corpus_bow) #fails\n",
    "with open(_TMP_FILE + '.corpus.bow', 'wb') as fp:\n",
    "    pickle.dump(corpus_bow, fp)\n",
    "    print('\\tINFO: corpus_bow saved as ' + _TMP_FILE)\n",
    "\n",
    "print(\"\\tCompleted in\", round(time.time() - iTime,3),\"seconds\")"
   ]
  },
  {
   "cell_type": "code",
   "execution_count": null,
   "metadata": {},
   "outputs": [],
   "source": [
    "print(\"END featurize\")"
   ]
  }
 ],
 "metadata": {
  "kernelspec": {
   "display_name": "Python 3",
   "language": "python",
   "name": "python3"
  },
  "language_info": {
   "codemirror_mode": {
    "name": "ipython",
    "version": 3
   },
   "file_extension": ".py",
   "mimetype": "text/x-python",
   "name": "python",
   "nbconvert_exporter": "python",
   "pygments_lexer": "ipython3",
   "version": "3.8.4"
  }
 },
 "nbformat": 4,
 "nbformat_minor": 4
}
