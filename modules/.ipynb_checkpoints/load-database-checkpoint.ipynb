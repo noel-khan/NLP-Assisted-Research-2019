{
 "cells": [
  {
   "cell_type": "code",
   "execution_count": 1,
   "metadata": {},
   "outputs": [],
   "source": [
    "print(\"BEGIN load-database\")"
   ]
  },
  {
   "cell_type": "code",
   "execution_count": 1,
   "metadata": {},
   "outputs": [],
   "source": [
    "import os.path                    # os.path.exists('mydirectory/myfile.txt')\n",
    "import time                       # performance/completion feedback"
   ]
  },
  {
   "cell_type": "code",
   "execution_count": 1,
   "metadata": {},
   "outputs": [],
   "source": [
    "database   = [] # N-column data source (defined above, but MUTATED during processing)\n",
    "iTime = 0     # used to track execution performance"
   ]
  },
  {
   "cell_type": "code",
   "execution_count": 1,
   "metadata": {},
   "outputs": [],
   "source": [
    "print(\"\\tLoading database...\")\n",
    "iTime = time.time()\n",
    "\n",
    "if USERARG_DATABASEFILE==\"data_training\":\n",
    "    assert(os.path.exists('data/data_training.ipynb'))\n",
    "    %run ./data/data_training.ipynb\n",
    "\n",
    "elif  USERARG_DATABASEFILE==\"data_scopus\":\n",
    "    assert(os.path.exists('data/data_scopus.ipynb'))\n",
    "    %run ./data/data_scopus.ipynb\n",
    "\n",
    "elif  USERARG_DATABASEFILE==\"data_experiment_wf1a\":\n",
    "    assert(os.path.exists('data/data_experiment_wf1a.ipynb'))\n",
    "    %run ./data/data_experiment_wf1a.ipynb\n",
    "\n",
    "elif  USERARG_DATABASEFILE==\"data_experiment_wf1b\":\n",
    "    assert(os.path.exists('data/data_experiment_wf1b.ipynb'))\n",
    "    %run ./data/data_experiment_wf1b.ipynb\n",
    "\n",
    "elif  USERARG_DATABASEFILE==\"data_experiment_wf2_validation\":\n",
    "    assert(os.path.exists('data/data_experiment_wf2_validation.ipynb'))\n",
    "    %run ./data/data_experiment_wf2_validation.ipynb\n",
    "\n",
    "elif  USERARG_DATABASEFILE==\"data_experiment_exemplar_train\":\n",
    "    assert(os.path.exists('data/data_experiment_exemplar_train.ipynb'))\n",
    "    %run ./data/data_experiment_exemplar_train.ipynb\n",
    "elif  USERARG_DATABASEFILE==\"data_experiment_exemplar_test\":\n",
    "    assert(os.path.exists('data/data_experiment_exemplar_test.ipynb'))\n",
    "    %run ./data/data_experiment_exemplar_test.ipynb\n",
    "    \n",
    "elif  USERARG_DATABASEFILE==\"data_topic_diff\":\n",
    "    assert(os.path.exists('data/data_topic_diff.ipynb'))\n",
    "    %run ./data/data_topic_diff.ipynb\n",
    "\n",
    "elif  USERARG_DATABASEFILE==\"data_topic_sim\":\n",
    "    assert(os.path.exists('data/data_topic_sim.ipynb'))\n",
    "    %run ./data/data_topic_sim.ipynb\n",
    "\n",
    "\n",
    "#elif .. DEFINE ADDITIONAL DATA SOURCES HERE ...\n",
    "    \n",
    "    \n",
    "    \n",
    "    \n",
    "    \n",
    "else:\n",
    "    print(\"ERROR\\tHALT! NO DATABASE WAS LOADED.\")\n",
    "    #assert(False)\n",
    "    raise SystemExit #catchable\n",
    "\n",
    "\n",
    "if USERARG_RECORD_LIMITER >= 1:\n",
    "    print(\"\\tNOTE: Database limited to\",USERARG_RECORD_LIMITER,\"records\")\n",
    "    database = database[0:USERARG_RECORD_LIMITER]\n",
    "    \n",
    "print(\"\\tLen(Database) = \",len(database))\n",
    "\n",
    "print(\"\\tCompleted in\", round(time.time() - iTime,3),\"seconds\")"
   ]
  },
  {
   "cell_type": "code",
   "execution_count": 1,
   "metadata": {},
   "outputs": [],
   "source": [
    "print(\"\\tEnsuring non-empty documents in database...\")\n",
    "iTime = time.time()\n",
    "\n",
    "# REF: https://stackoverflow.com/questions/47998685/pyldavis-validation-error-on-trying-to-visualize-topics\n",
    "# For xDx model visualizations, you may get the error \"* Not all rows (distributions) in topic_term_dists sum\n",
    "# to 1\" if [1] you have NULL documents or [2] are running the model on a different dictionary. \n",
    "# Explanation:\n",
    "# <BEGIN> \"This happens because the pyLDAvis program expects that all document topics in the model show up in the\n",
    "# corpus at least once. A word in the model's internal dictionary that is not used in the dictionary you \n",
    "# provide will cause this to fail because now the probability is slightly less than one. You can fix this \n",
    "# by either adding the missing words to your corpus dictionary (or adding the words to the corpus and making\n",
    "# a dictionary from that)\" <END>\n",
    "\n",
    "_ndx = [i for i in range(len(database)) if len(database[i][FIELD_BzNDX_ABSTRACT]) == 0]\n",
    "for i in _ndx:\n",
    "    database[i][FIELD_BzNDX_ABSTRACT] = EMPTY_DOCUMENT_VALUE\n",
    "\n",
    "print(\"\\tSet\", len(_ndx),\"empty documents to\", EMPTY_DOCUMENT_VALUE)\n",
    "_ndx = None\n",
    "\n",
    "print(\"\\tCompleted in\", round(time.time() - iTime,3),\"seconds\")"
   ]
  },
  {
   "cell_type": "code",
   "execution_count": 1,
   "metadata": {},
   "outputs": [],
   "source": [
    "print(\"END load-database\")"
   ]
  }
 ],
 "metadata": {
  "kernelspec": {
   "display_name": "Python 3",
   "language": "python",
   "name": "python3"
  },
  "language_info": {
   "codemirror_mode": {
    "name": "ipython",
    "version": 3
   },
   "file_extension": ".py",
   "mimetype": "text/x-python",
   "name": "python",
   "nbconvert_exporter": "python",
   "pygments_lexer": "ipython3",
   "version": "3.8.4"
  }
 },
 "nbformat": 4,
 "nbformat_minor": 4
}
