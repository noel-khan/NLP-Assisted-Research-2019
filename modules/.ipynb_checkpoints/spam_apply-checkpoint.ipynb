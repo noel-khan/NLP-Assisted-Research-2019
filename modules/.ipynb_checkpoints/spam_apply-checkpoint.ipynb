{
 "cells": [
  {
   "cell_type": "code",
   "execution_count": 1,
   "metadata": {},
   "outputs": [],
   "source": [
    "print(\"BEGIN Apply smart-filter_spam\")\n",
    "# ASSUMES: model_spam contained trained NB model\n",
    "# Decoupling the application of the model allows\n",
    "# the model to be trained or loaded from a file.\n",
    "\n",
    "# REQUIREMENT: The number of words in the training\n",
    "# dataset needs to to match the number of words in\n",
    "# the validation/test dataset. This can be ensured\n",
    "# by setting USERARG_FILTER_WORDS to the min number\n",
    "# of distinct words from either dataset.\n",
    "\n",
    "assert(model_spam)"
   ]
  },
  {
   "cell_type": "code",
   "execution_count": 1,
   "metadata": {},
   "outputs": [],
   "source": [
    "import time                       # performance/completion feedback\n",
    "import numpy as np"
   ]
  },
  {
   "cell_type": "code",
   "execution_count": 1,
   "metadata": {},
   "outputs": [],
   "source": [
    "def spam_apply_filename():\n",
    "    SPAMNB_USERARG_PATH  ='models/spam__arg-pos=' + str(USERARG_FILTER_POS) \n",
    "    SPAMNB_USERARG_PATH +='-lim=' + str(USERARG_FILTER_WORDS) \n",
    "    SPAMNB_USERARG_PATH +='-tts=' + str(USERARG_TRAINvTEST_SPLIT) \n",
    "    SPAMNB_USERARG_PATH +='-acc=' + str(_accuracy) \n",
    "    SPAMNB_USERARG_PATH +='-cfy=' + USERARG_SPAM_CLASSIFIER\n",
    "    SPAMNB_USERARG_PATH += '-db='  + USERARG_DATABASEFILE\n",
    "    return SPAMNB_USERARG_PATH\n"
   ]
  },
  {
   "cell_type": "code",
   "execution_count": 1,
   "metadata": {},
   "outputs": [],
   "source": [
    "iTime = time.time()\n",
    "\n",
    "_results = []\n",
    "_labels = []\n",
    "_features = corpus_bow\n",
    "\n",
    "print(\"\\tINFO\\TYPE: features dimensions:\",len(_features), \"x\", len(_features[0]))\n",
    "\n",
    "#if USERARG_DATABASEFILE == \"data_training\":\n",
    "if USERARG_DATABASEFILE == \"data_experiment_exemplar_train\":\n",
    "    print(\"\\tExtracting features and supervision-labels from database...\")\n",
    "    _labels = list(database[i][FIELD_BzNDX_BIN_CLASS] for i in range(len(database))) # {FIELD_BzNDX_BIN_CLASS, FIELD_BzNDX_INT_CLASS}\n",
    "else:\n",
    "    _labels = np.zeros(len(database))\n",
    "    _labels = np.reshape(_labels, (len(_labels),1) )\n",
    "    print(\"\\tINFO: created dummy labels:\", len(_labels), \"x\", len(_labels[0]))\n",
    "\n",
    "# print(\"\\tINFO\\TYPE: features[i]\", type(feature_vector),\" example:\",feature_vector)\n",
    "\n",
    "print(\"\\tCompleted in\", round(time.time() - iTime,3),\"seconds\")"
   ]
  },
  {
   "cell_type": "code",
   "execution_count": 1,
   "metadata": {},
   "outputs": [],
   "source": [
    "print(\"\\tApplying\",USERARG_SPAM_CLASSIFIER,\"Filter...\")\n",
    "iTime = time.time()\n",
    "\n",
    "print(len(_features),\" _features\")\n",
    "\n",
    "# apply classifier to database\n",
    "tmp = [model_spam.predict([x]) for x in _features] # wtf? \"Model n_features is 3034 and input n_features is 21548\"\n",
    "\n",
    "_results = [(x[0]) for x in tmp]\n",
    "tmp = None\n",
    "\n",
    "# raw results\n",
    "print(_results)\n",
    "\n",
    "# summarize results\n",
    "\n",
    "print(\"\\tSummarizing\", USERARG_SPAM_CLASSIFIER,\"Results...\")\n",
    "x = list(zip(_labels, _results))\n",
    "fp = 0\n",
    "fn = 0\n",
    "m = 0\n",
    "u = 0\n",
    "\n",
    "for i in range(len(x)):\n",
    "    if x[i][0] == x[i][1]:\n",
    "        m+=1\n",
    "    else:\n",
    "        if x[i][0] == 0 and x[i][1] == 1:\n",
    "            fp+=1\n",
    "        elif x[i][0] == 1 and x[i][1] == 0:\n",
    "            fn+=1\n",
    "        else:\n",
    "            u+=1\n",
    "\n",
    "#if USERARG_DATABASEFILE == \"data_training\":\n",
    "if USERARG_DATABASEFILE == \"data_experiment_exemplar_train\":\n",
    "    print(\"\\t\",m,\"matches,\", fp,\"false positives,\", fn,\"false negatives, and\", u,\"unclassified\")\n",
    "else:\n",
    "    print(\"\\t\", fp,\"matches\")\n",
    "\n",
    "print(\"\\tCompleted in\", round(time.time() - iTime,3),\"seconds\")\n",
    "\n",
    "_results = None\n",
    "_labels  = None\n",
    "_features= None\n",
    "m = None\n",
    "u = None\n",
    "x = None\n",
    "fn = None\n",
    "fp = None"
   ]
  },
  {
   "cell_type": "code",
   "execution_count": 1,
   "metadata": {},
   "outputs": [],
   "source": [
    "#spam_apply_filename()\n",
    "\n",
    "#TODO write report"
   ]
  },
  {
   "cell_type": "code",
   "execution_count": 1,
   "metadata": {},
   "outputs": [],
   "source": [
    "print(\"END Apply smart-filter_spam\")"
   ]
  }
 ],
 "metadata": {
  "kernelspec": {
   "display_name": "Python 3",
   "language": "python",
   "name": "python3"
  },
  "language_info": {
   "codemirror_mode": {
    "name": "ipython",
    "version": 3
   },
   "file_extension": ".py",
   "mimetype": "text/x-python",
   "name": "python",
   "nbconvert_exporter": "python",
   "pygments_lexer": "ipython3",
   "version": "3.8.4"
  }
 },
 "nbformat": 4,
 "nbformat_minor": 4
}
