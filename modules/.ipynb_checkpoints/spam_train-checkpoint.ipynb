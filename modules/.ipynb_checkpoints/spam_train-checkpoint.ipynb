{
 "cells": [
  {
   "cell_type": "code",
   "execution_count": 1,
   "metadata": {},
   "outputs": [],
   "source": [
    "print(\"BEGIN train smart-filter_spam\")"
   ]
  },
  {
   "cell_type": "code",
   "execution_count": 1,
   "metadata": {},
   "outputs": [],
   "source": [
    "assert(corpus_bow)"
   ]
  },
  {
   "cell_type": "code",
   "execution_count": 1,
   "metadata": {},
   "outputs": [],
   "source": [
    "from sklearn.naive_bayes import MultinomialNB\n",
    "from sklearn.ensemble import AdaBoostClassifier\n",
    "from sklearn.model_selection import train_test_split as tts\n",
    "from sklearn.metrics import accuracy_score\n",
    "import pickle as c\n",
    "import numpy as np\n",
    "import time                       # performance/completion feedback"
   ]
  },
  {
   "cell_type": "code",
   "execution_count": 1,
   "metadata": {},
   "outputs": [],
   "source": [
    "def right(s, amount):\n",
    "    return s[-amount:]\n",
    "\n",
    "def pad(s, pad_char='0', pad_sz=2):\n",
    "    return right(pad_char*pad_sz + s, pad_sz)\n",
    "   "
   ]
  },
  {
   "cell_type": "code",
   "execution_count": 1,
   "metadata": {},
   "outputs": [],
   "source": [
    "# LOCAL OVERRIDES FOR DEV + TEST\n",
    "\n",
    "#USERARG_TRAINvTEST_SPLIT    = 0.2\n",
    "#USERARG_SPAM_CLASSIFIER     = {'NAIVEBAYES', 'ADABOOST'}\n",
    "\n",
    "def spam_train_filename():\n",
    "    t = time.localtime()\n",
    "    t = str(t.tm_year) + pad(str(t.tm_mon)) + pad(str(t.tm_mday)) + pad(str(t.tm_hour)) + str(int(t.tm_min/20)*20)\n",
    "    SPAMNB_USERARG_PATH  ='models/spam__arg-pos=' + str(USERARG_FILTER_POS) \n",
    "    SPAMNB_USERARG_PATH +='-dblim=' + str(USERARG_RECORD_LIMITER) \n",
    "    SPAMNB_USERARG_PATH +='-lim=' + str(USERARG_FILTER_WORDS) \n",
    "    SPAMNB_USERARG_PATH +='-tts=' + str(USERARG_TRAINvTEST_SPLIT) \n",
    "    SPAMNB_USERARG_PATH +='-acc=' + str(_accuracy) \n",
    "    SPAMNB_USERARG_PATH +='-cfy=' + USERARG_SPAM_CLASSIFIER\n",
    "    SPAMNB_USERARG_PATH += '-db=' + USERARG_DATABASEFILE\n",
    "    SPAMNB_USERARG_PATH += '-dt=' + t\n",
    "    SPAMNB_USERARG_PATH += '-r#=' + str(_RUN_INTERATION)\n",
    "    SPAMNB_USERARG_PATH +='.model'\n",
    "    t = None\n",
    "    return SPAMNB_USERARG_PATH\n",
    "\n",
    "#%run ./common_preprocessor.ipynb"
   ]
  },
  {
   "cell_type": "code",
   "execution_count": 1,
   "metadata": {},
   "outputs": [],
   "source": [
    "# intermediate VARIABLES\n",
    "_labels = []\n",
    "iTime = 0      # used to track execution performance"
   ]
  },
  {
   "cell_type": "code",
   "execution_count": 1,
   "metadata": {},
   "outputs": [],
   "source": [
    "print(\"\\tExtracting features and supervision-labels from database...\")\n",
    "iTime = time.time()\n",
    "\n",
    "_labels = list(database[i][FIELD_BzNDX_BIN_CLASS] for i in range(len(database))) # {FIELD_BzNDX_BIN_CLASS, FIELD_BzNDX_INT_CLASS}\n",
    "print(\"\\tINFO\\TYPE: features dimensions:\",len(corpus_bow), \"x\", len(corpus_bow[0]))\n",
    "print(\"\\tINFO\\TYPE: features[i]\", type(corpus_bow[0]),\" example:\",corpus_bow[0])\n",
    "\n",
    "print(\"\\tCompleted in\", round(time.time() - iTime,3),\"seconds\")"
   ]
  },
  {
   "cell_type": "code",
   "execution_count": 1,
   "metadata": {},
   "outputs": [],
   "source": [
    "print(\"\\tTraining Naive Bayes Filter...\")\n",
    "print(\"\\tNOTE: performance depends on randomly selected training/test data split...\")\n",
    "iTime = time.time()\n",
    "\n",
    "# instantiate classifier\n",
    "if USERARG_SPAM_CLASSIFIER == 'NAIVEBAYES':\n",
    "    model_spam = MultinomialNB()\n",
    "elif USERARG_SPAM_CLASSIFIER == 'ADABOOST':\n",
    "    model_spam = AdaBoostClassifier()\n",
    "\n",
    "# shuffle and partition dataset\n",
    "x_train,x_test, y_train,y_test = tts(corpus_bow, _labels, test_size=USERARG_TRAINvTEST_SPLIT)\n",
    "_labels   = None\n",
    "tts = None\n",
    "\n",
    "# for the model to be portable across datasets, make sure the training data is a matrix\n",
    "x_train = np.asarray(x_train)\n",
    "print(\"\\tASSERT: x_train (\", type(x_train), \") is array-like (not a list) = \", type(x_train) != type(list()))\n",
    "print(\"\\tINFO: x_train dimensions =\", len(x_train), \"x\",len(x_train[0]))\n",
    "print(\"\\tINFO: x_test  dimensions =\", len(x_test),  \"x\", len(x_test[0]))\n",
    "print(\"\\tINFO: y_train dimensions =\", len(y_train))\n",
    "print(\"\\tINFO: y_test  dimensions =\", len(y_test))\n",
    "\n",
    "# train classifier\n",
    "model_spam.fit(x_train, y_train)\n",
    "\n",
    "\n",
    "# test classifier\n",
    "_predictions = model_spam.predict(x_test)\n",
    "_accuracy = round(accuracy_score(y_test,  _predictions),2)\n",
    "print(\"\\tAchieved\",round(_accuracy*100,0), \"% accuracy\")\n",
    "_predictions = None\n",
    "x_train = None\n",
    "x_test = None\n",
    "y_train = None\n",
    "y_test = None\n",
    "\n",
    "print(\"\\tCompleted in\", round(time.time() - iTime,3),\"seconds\")"
   ]
  },
  {
   "cell_type": "code",
   "execution_count": 1,
   "metadata": {},
   "outputs": [],
   "source": [
    "# save classifier\n",
    "with open(spam_train_filename(), 'wb') as fp:\n",
    "    c.dump(model_spam, fp)\n"
   ]
  },
  {
   "cell_type": "code",
   "execution_count": 1,
   "metadata": {},
   "outputs": [],
   "source": [
    "print(\"END train smart-filter_spam\")"
   ]
  }
 ],
 "metadata": {
  "kernelspec": {
   "display_name": "Python 3",
   "language": "python",
   "name": "python3"
  },
  "language_info": {
   "codemirror_mode": {
    "name": "ipython",
    "version": 3
   },
   "file_extension": ".py",
   "mimetype": "text/x-python",
   "name": "python",
   "nbconvert_exporter": "python",
   "pygments_lexer": "ipython3",
   "version": "3.8.4"
  }
 },
 "nbformat": 4,
 "nbformat_minor": 4
}
