{
 "cells": [
  {
   "cell_type": "code",
   "execution_count": null,
   "metadata": {},
   "outputs": [],
   "source": [
    "print(\"BEGIN \", USERARG_TOPIC_MODEL,\"_apply\")"
   ]
  },
  {
   "cell_type": "code",
   "execution_count": null,
   "metadata": {},
   "outputs": [],
   "source": [
    "assert(model_xdx)"
   ]
  },
  {
   "cell_type": "code",
   "execution_count": null,
   "metadata": {},
   "outputs": [],
   "source": [
    "import time                       # performance/completion feedback"
   ]
  },
  {
   "cell_type": "code",
   "execution_count": null,
   "metadata": {},
   "outputs": [],
   "source": [
    "def xdx_apply_filename():\n",
    "    _xDx_FILE  = USERARG_TOPIC_MODEL + '__arg'\n",
    "    _xDx_FILE += '-dblim=' + str(USERARG_RECORD_LIMITER) \n",
    "    _xDx_FILE += '-num=' + str(USERARG_NUMTOPICS)\n",
    "    _xDx_FILE += '-min=' + str(USERARG_NGRAM_MINCOUNT)\n",
    "    _xDx_FILE += '-thr=' + str(USERARG_NGRAM_THRESHOLD)\n",
    "\n",
    "    if USERARG_TOPIC_MODEL=='LDA':\n",
    "        _xDx_FILE += '-itr=' + str(USERARG_LDA_ITERATIONS)\n",
    "        _xDx_FILE += '-chk=' + str(USERARG_LDA_CHUNKSIZE)\n",
    "\n",
    "    _xDx_FILE += '-db='  + USERARG_DATABASEFILE\n",
    "    \n",
    "    return _xDx_FILE"
   ]
  },
  {
   "cell_type": "code",
   "execution_count": null,
   "metadata": {},
   "outputs": [],
   "source": [
    "\n",
    "_TMP_FILE = 'reports/' + xdx_apply_filename() + '_results.csv'\n",
    "_TMP_RECORD = []\n",
    "iTime = time.time()\n",
    "\n",
    "\n",
    "# print header\n",
    "print(\"\\tDocID,IntClass,BinClass,MatchingTopicID,MatchingTopicScore,RawTopicScores\")\n",
    "\n",
    "with open(_TMP_FILE, 'w') as filehandle:\n",
    "    for i in range(len(corpus_i2w)):\n",
    "        topic_scores = model_xdx[ corpus_i2w[i] ] # list of tuples{topicID,score}\n",
    "        best = ['', -10000] # = [topicID, topicScore]\n",
    "        for item in topic_scores:\n",
    "            if item[1] > best[1]:\n",
    "                best = item\n",
    "\n",
    "        record = database[i]\n",
    "        _TMP_RECORD = \"\\t\" + str(record[FIELD_BzNDX_DOCID]) + \",\" + str(record[FIELD_BzNDX_INT_CLASS]) + \",\" + str(record[FIELD_BzNDX_BIN_CLASS]) + \",\" + str(best[0]) + \",\" + str(best[1]) + \",\" + str(topic_scores)\n",
    "        print(_TMP_RECORD)\n",
    "        filehandle.writelines(_TMP_RECORD + \"\\n\")\n",
    "\n",
    "print('\\tINFO:', USERARG_TOPIC_MODEL, 'results saved to ' + _TMP_FILE)\n",
    "print(\"\\tCompleted in\", round(time.time() - iTime,3),\"seconds\")\n"
   ]
  },
  {
   "cell_type": "code",
   "execution_count": null,
   "metadata": {},
   "outputs": [],
   "source": [
    "print(\"END \",USERARG_TOPIC_MODEL,\"_apply\")"
   ]
  }
 ],
 "metadata": {
  "kernelspec": {
   "display_name": "Python 3",
   "language": "python",
   "name": "python3"
  },
  "language_info": {
   "codemirror_mode": {
    "name": "ipython",
    "version": 3
   },
   "file_extension": ".py",
   "mimetype": "text/x-python",
   "name": "python",
   "nbconvert_exporter": "python",
   "pygments_lexer": "ipython3",
   "version": "3.8.4"
  }
 },
 "nbformat": 4,
 "nbformat_minor": 4
}
